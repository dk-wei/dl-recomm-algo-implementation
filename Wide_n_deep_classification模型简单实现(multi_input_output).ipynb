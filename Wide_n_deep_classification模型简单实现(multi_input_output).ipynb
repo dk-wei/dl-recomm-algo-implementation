{
  "nbformat": 4,
  "nbformat_minor": 0,
  "metadata": {
    "colab": {
      "name": "Wide-n-deep classification模型简单实现(multi-input-output).ipynb",
      "provenance": [],
      "authorship_tag": "ABX9TyM/+glaU5CQvt4amNI//gMC",
      "include_colab_link": true
    },
    "kernelspec": {
      "name": "python3",
      "display_name": "Python 3"
    },
    "language_info": {
      "name": "python"
    }
  },
  "cells": [
    {
      "cell_type": "markdown",
      "metadata": {
        "id": "view-in-github",
        "colab_type": "text"
      },
      "source": [
        "<a href=\"https://colab.research.google.com/github/dk-wei/dl-recomm-algo-implementation/blob/main/Wide_n_deep_classification%E6%A8%A1%E5%9E%8B%E7%AE%80%E5%8D%95%E5%AE%9E%E7%8E%B0(multi_input_output).ipynb\" target=\"_parent\"><img src=\"https://colab.research.google.com/assets/colab-badge.svg\" alt=\"Open In Colab\"/></a>"
      ]
    },
    {
      "cell_type": "markdown",
      "metadata": {
        "id": "Wn5pU2iCaNdV"
      },
      "source": [
        "代码来源：https://github.com/dongxiaohuang/Tensorflow2.0_notes/blob/main/tf_keras_regression_wide_deep_multi_input.ipynb\n",
        "\n",
        "讲解博客：https://zhuanlan.zhihu.com/p/348968507"
      ]
    },
    {
      "cell_type": "code",
      "metadata": {
        "colab": {
          "base_uri": "https://localhost:8080/"
        },
        "id": "39qjOQwqWuyd",
        "outputId": "c779968b-c5f8-4a4a-ca4b-8089ffe32791"
      },
      "source": [
        "!pip config set global.index-url https://mirrors.aliyun.com/pypi/simple/\n",
        "!python -m pip install -U pip\n",
        "!pip -V\n",
        "#!pip install sklearn pandas"
      ],
      "execution_count": 1,
      "outputs": [
        {
          "output_type": "stream",
          "text": [
            "Writing to /root/.config/pip/pip.conf\n",
            "Looking in indexes: https://mirrors.aliyun.com/pypi/simple/\n",
            "Requirement already satisfied: pip in /usr/local/lib/python3.7/dist-packages (21.1.3)\n",
            "\u001b[33mWARNING: Running pip as the 'root' user can result in broken permissions and conflicting behaviour with the system package manager. It is recommended to use a virtual environment instead: https://pip.pypa.io/warnings/venv\u001b[0m\n",
            "pip 21.1.3 from /usr/local/lib/python3.7/dist-packages/pip (python 3.7)\n"
          ],
          "name": "stdout"
        }
      ]
    },
    {
      "cell_type": "code",
      "metadata": {
        "id": "OShRnjSUWuu8"
      },
      "source": [
        "import matplotlib as mpl\n",
        "import matplotlib.pyplot as plt\n",
        "%matplotlib inline\n",
        "import numpy as np\n",
        "import sklearn\n",
        "import pandas as pd\n",
        "import os\n",
        "import sys\n",
        "import time\n",
        "import tensorflow as tf\n",
        "\n",
        "import tensorflow as tf"
      ],
      "execution_count": 2,
      "outputs": []
    },
    {
      "cell_type": "code",
      "metadata": {
        "colab": {
          "base_uri": "https://localhost:8080/"
        },
        "id": "ZACaJo8bWusR",
        "outputId": "6e9b0df8-1081-4c7f-a380-676a2ef549fc"
      },
      "source": [
        "print(tf.__version__)\n",
        "print(sys.version_info)\n",
        "for module in mpl, np, pd, sklearn, tf, tf.keras:\n",
        "    print(module.__name__, module.__version__)\n"
      ],
      "execution_count": 3,
      "outputs": [
        {
          "output_type": "stream",
          "text": [
            "2.5.0\n",
            "sys.version_info(major=3, minor=7, micro=10, releaselevel='final', serial=0)\n",
            "matplotlib 3.2.2\n",
            "numpy 1.19.5\n",
            "pandas 1.1.5\n",
            "sklearn 0.22.2.post1\n",
            "tensorflow 2.5.0\n",
            "tensorflow.keras 2.5.0\n"
          ],
          "name": "stdout"
        }
      ]
    },
    {
      "cell_type": "markdown",
      "metadata": {
        "id": "CLw3pNBvXS92"
      },
      "source": [
        "# Breast cancer data ETL\n",
        "\n",
        "\n"
      ]
    },
    {
      "cell_type": "code",
      "metadata": {
        "id": "fgFqa4ybWupU",
        "colab": {
          "base_uri": "https://localhost:8080/"
        },
        "outputId": "9ed7c057-680e-47c0-cb08-90a9c892a8dc"
      },
      "source": [
        "from sklearn.datasets import load_breast_cancer\n",
        "\n",
        "demo_data = load_breast_cancer()\n",
        "print(demo_data.DESCR)\n",
        "print(demo_data.data.shape)\n",
        "print(demo_data.target.shape)\n",
        "demo_data.data[0]\n"
      ],
      "execution_count": 4,
      "outputs": [
        {
          "output_type": "stream",
          "text": [
            ".. _breast_cancer_dataset:\n",
            "\n",
            "Breast cancer wisconsin (diagnostic) dataset\n",
            "--------------------------------------------\n",
            "\n",
            "**Data Set Characteristics:**\n",
            "\n",
            "    :Number of Instances: 569\n",
            "\n",
            "    :Number of Attributes: 30 numeric, predictive attributes and the class\n",
            "\n",
            "    :Attribute Information:\n",
            "        - radius (mean of distances from center to points on the perimeter)\n",
            "        - texture (standard deviation of gray-scale values)\n",
            "        - perimeter\n",
            "        - area\n",
            "        - smoothness (local variation in radius lengths)\n",
            "        - compactness (perimeter^2 / area - 1.0)\n",
            "        - concavity (severity of concave portions of the contour)\n",
            "        - concave points (number of concave portions of the contour)\n",
            "        - symmetry \n",
            "        - fractal dimension (\"coastline approximation\" - 1)\n",
            "\n",
            "        The mean, standard error, and \"worst\" or largest (mean of the three\n",
            "        largest values) of these features were computed for each image,\n",
            "        resulting in 30 features.  For instance, field 3 is Mean Radius, field\n",
            "        13 is Radius SE, field 23 is Worst Radius.\n",
            "\n",
            "        - class:\n",
            "                - WDBC-Malignant\n",
            "                - WDBC-Benign\n",
            "\n",
            "    :Summary Statistics:\n",
            "\n",
            "    ===================================== ====== ======\n",
            "                                           Min    Max\n",
            "    ===================================== ====== ======\n",
            "    radius (mean):                        6.981  28.11\n",
            "    texture (mean):                       9.71   39.28\n",
            "    perimeter (mean):                     43.79  188.5\n",
            "    area (mean):                          143.5  2501.0\n",
            "    smoothness (mean):                    0.053  0.163\n",
            "    compactness (mean):                   0.019  0.345\n",
            "    concavity (mean):                     0.0    0.427\n",
            "    concave points (mean):                0.0    0.201\n",
            "    symmetry (mean):                      0.106  0.304\n",
            "    fractal dimension (mean):             0.05   0.097\n",
            "    radius (standard error):              0.112  2.873\n",
            "    texture (standard error):             0.36   4.885\n",
            "    perimeter (standard error):           0.757  21.98\n",
            "    area (standard error):                6.802  542.2\n",
            "    smoothness (standard error):          0.002  0.031\n",
            "    compactness (standard error):         0.002  0.135\n",
            "    concavity (standard error):           0.0    0.396\n",
            "    concave points (standard error):      0.0    0.053\n",
            "    symmetry (standard error):            0.008  0.079\n",
            "    fractal dimension (standard error):   0.001  0.03\n",
            "    radius (worst):                       7.93   36.04\n",
            "    texture (worst):                      12.02  49.54\n",
            "    perimeter (worst):                    50.41  251.2\n",
            "    area (worst):                         185.2  4254.0\n",
            "    smoothness (worst):                   0.071  0.223\n",
            "    compactness (worst):                  0.027  1.058\n",
            "    concavity (worst):                    0.0    1.252\n",
            "    concave points (worst):               0.0    0.291\n",
            "    symmetry (worst):                     0.156  0.664\n",
            "    fractal dimension (worst):            0.055  0.208\n",
            "    ===================================== ====== ======\n",
            "\n",
            "    :Missing Attribute Values: None\n",
            "\n",
            "    :Class Distribution: 212 - Malignant, 357 - Benign\n",
            "\n",
            "    :Creator:  Dr. William H. Wolberg, W. Nick Street, Olvi L. Mangasarian\n",
            "\n",
            "    :Donor: Nick Street\n",
            "\n",
            "    :Date: November, 1995\n",
            "\n",
            "This is a copy of UCI ML Breast Cancer Wisconsin (Diagnostic) datasets.\n",
            "https://goo.gl/U2Uwz2\n",
            "\n",
            "Features are computed from a digitized image of a fine needle\n",
            "aspirate (FNA) of a breast mass.  They describe\n",
            "characteristics of the cell nuclei present in the image.\n",
            "\n",
            "Separating plane described above was obtained using\n",
            "Multisurface Method-Tree (MSM-T) [K. P. Bennett, \"Decision Tree\n",
            "Construction Via Linear Programming.\" Proceedings of the 4th\n",
            "Midwest Artificial Intelligence and Cognitive Science Society,\n",
            "pp. 97-101, 1992], a classification method which uses linear\n",
            "programming to construct a decision tree.  Relevant features\n",
            "were selected using an exhaustive search in the space of 1-4\n",
            "features and 1-3 separating planes.\n",
            "\n",
            "The actual linear program used to obtain the separating plane\n",
            "in the 3-dimensional space is that described in:\n",
            "[K. P. Bennett and O. L. Mangasarian: \"Robust Linear\n",
            "Programming Discrimination of Two Linearly Inseparable Sets\",\n",
            "Optimization Methods and Software 1, 1992, 23-34].\n",
            "\n",
            "This database is also available through the UW CS ftp server:\n",
            "\n",
            "ftp ftp.cs.wisc.edu\n",
            "cd math-prog/cpo-dataset/machine-learn/WDBC/\n",
            "\n",
            ".. topic:: References\n",
            "\n",
            "   - W.N. Street, W.H. Wolberg and O.L. Mangasarian. Nuclear feature extraction \n",
            "     for breast tumor diagnosis. IS&T/SPIE 1993 International Symposium on \n",
            "     Electronic Imaging: Science and Technology, volume 1905, pages 861-870,\n",
            "     San Jose, CA, 1993.\n",
            "   - O.L. Mangasarian, W.N. Street and W.H. Wolberg. Breast cancer diagnosis and \n",
            "     prognosis via linear programming. Operations Research, 43(4), pages 570-577, \n",
            "     July-August 1995.\n",
            "   - W.H. Wolberg, W.N. Street, and O.L. Mangasarian. Machine learning techniques\n",
            "     to diagnose breast cancer from fine-needle aspirates. Cancer Letters 77 (1994) \n",
            "     163-171.\n",
            "(569, 30)\n",
            "(569,)\n"
          ],
          "name": "stdout"
        },
        {
          "output_type": "execute_result",
          "data": {
            "text/plain": [
              "array([1.799e+01, 1.038e+01, 1.228e+02, 1.001e+03, 1.184e-01, 2.776e-01,\n",
              "       3.001e-01, 1.471e-01, 2.419e-01, 7.871e-02, 1.095e+00, 9.053e-01,\n",
              "       8.589e+00, 1.534e+02, 6.399e-03, 4.904e-02, 5.373e-02, 1.587e-02,\n",
              "       3.003e-02, 6.193e-03, 2.538e+01, 1.733e+01, 1.846e+02, 2.019e+03,\n",
              "       1.622e-01, 6.656e-01, 7.119e-01, 2.654e-01, 4.601e-01, 1.189e-01])"
            ]
          },
          "metadata": {
            "tags": []
          },
          "execution_count": 4
        }
      ]
    },
    {
      "cell_type": "code",
      "metadata": {
        "id": "Hls2m_yDWunX",
        "colab": {
          "base_uri": "https://localhost:8080/"
        },
        "outputId": "77b30db3-48b0-479b-bb75-bcff572e03bf"
      },
      "source": [
        "from sklearn.model_selection import train_test_split\n",
        "\n",
        "x_train_all, x_test, y_train_all, y_test = train_test_split(\n",
        "    demo_data.data, demo_data.target, random_state = 7)\n",
        "x_train, x_valid, y_train, y_valid = train_test_split(\n",
        "    x_train_all, y_train_all, random_state = 11)\n",
        "print(x_train.shape, y_train.shape)\n",
        "print(x_valid.shape, y_valid.shape)\n",
        "print(x_test.shape, y_test.shape)"
      ],
      "execution_count": 5,
      "outputs": [
        {
          "output_type": "stream",
          "text": [
            "(319, 30) (319,)\n",
            "(107, 30) (107,)\n",
            "(143, 30) (143,)\n"
          ],
          "name": "stdout"
        }
      ]
    },
    {
      "cell_type": "code",
      "metadata": {
        "id": "RT6KCaAOWujV"
      },
      "source": [
        "from sklearn.preprocessing import StandardScaler\n",
        "\n",
        "scaler = StandardScaler()\n",
        "x_train_scaled = scaler.fit_transform(x_train)\n",
        "x_valid_scaled = scaler.transform(x_valid)\n",
        "x_test_scaled = scaler.transform(x_test)"
      ],
      "execution_count": 6,
      "outputs": []
    },
    {
      "cell_type": "markdown",
      "metadata": {
        "id": "TL9Y-59GXkef"
      },
      "source": [
        "# Model Creation (multiple inputs)\n",
        "\n",
        "Model Structure\n",
        "\n",
        "![](https://camo.githubusercontent.com/b8b9d8c6c4277fb35ff70d48fbfce457a5b3d32d/68747470733a2f2f312e62702e626c6f6773706f742e636f6d2f2d4477316d4239616d316c382f56334d67744f7a703375492f41414141414141414247732f6d502d336e5a51436a5777646b367143613557726153704b3841377253506a3341434c63422f73313630302f696d61676530342e706e67)"
      ]
    },
    {
      "cell_type": "markdown",
      "metadata": {
        "id": "jfikBJJRXsVR"
      },
      "source": [
        "## Function API Implementation"
      ]
    },
    {
      "cell_type": "code",
      "metadata": {
        "id": "wBLatFaCWufd"
      },
      "source": [
        "# 多输入, 多输出\n",
        "tf.random.set_seed(2)\n",
        "\n",
        "input_wide = tf.keras.layers.Input(shape=[15], name='input_wide')\n",
        "input_deep = tf.keras.layers.Input(shape=[15], name='input_deep')\n",
        "\n",
        "hidden1 = tf.keras.layers.Dense(30, activation='relu')(input_deep)\n",
        "hidden2 = tf.keras.layers.Dense(30, activation='relu')(hidden1)\n",
        "\n",
        "concat = tf.keras.layers.concatenate([input_wide, hidden2])\n",
        "\n",
        "output1 = tf.keras.layers.Dense(1, activation='sigmoid', name='output_1')(concat)\n",
        "output2 = tf.keras.layers.Dense(1, activation='sigmoid', name='output_2')(concat)\n",
        "\n",
        "model = tf.keras.models.Model(inputs = [input_wide, input_deep],\n",
        "                         outputs = [output1, output2])\n"
      ],
      "execution_count": 7,
      "outputs": []
    },
    {
      "cell_type": "code",
      "metadata": {
        "id": "DTxrL3RdWucs",
        "colab": {
          "base_uri": "https://localhost:8080/"
        },
        "outputId": "df16a7bf-ee35-4c29-a237-5182691f76f3"
      },
      "source": [
        "model.summary()"
      ],
      "execution_count": 8,
      "outputs": [
        {
          "output_type": "stream",
          "text": [
            "Model: \"model\"\n",
            "__________________________________________________________________________________________________\n",
            "Layer (type)                    Output Shape         Param #     Connected to                     \n",
            "==================================================================================================\n",
            "input_deep (InputLayer)         [(None, 15)]         0                                            \n",
            "__________________________________________________________________________________________________\n",
            "dense (Dense)                   (None, 30)           480         input_deep[0][0]                 \n",
            "__________________________________________________________________________________________________\n",
            "input_wide (InputLayer)         [(None, 15)]         0                                            \n",
            "__________________________________________________________________________________________________\n",
            "dense_1 (Dense)                 (None, 30)           930         dense[0][0]                      \n",
            "__________________________________________________________________________________________________\n",
            "concatenate (Concatenate)       (None, 45)           0           input_wide[0][0]                 \n",
            "                                                                 dense_1[0][0]                    \n",
            "__________________________________________________________________________________________________\n",
            "output_1 (Dense)                (None, 1)            46          concatenate[0][0]                \n",
            "__________________________________________________________________________________________________\n",
            "output_2 (Dense)                (None, 1)            46          concatenate[0][0]                \n",
            "==================================================================================================\n",
            "Total params: 1,502\n",
            "Trainable params: 1,502\n",
            "Non-trainable params: 0\n",
            "__________________________________________________________________________________________________\n"
          ],
          "name": "stdout"
        }
      ]
    },
    {
      "cell_type": "code",
      "metadata": {
        "id": "GXmUwYaVWuaG",
        "colab": {
          "base_uri": "https://localhost:8080/",
          "height": 466
        },
        "outputId": "03fa7e55-2f97-47ef-fc1e-df20437e427d"
      },
      "source": [
        "# plot model\n",
        "\n",
        "# tf.keras.utils.plot_model(\n",
        "#     model,\n",
        "#     to_file=\"model.png\",\n",
        "#     show_shapes=False,\n",
        "#     show_dtype=False,\n",
        "#     show_layer_names=True,\n",
        "#     rankdir=\"TB\",\n",
        "#     expand_nested=False,\n",
        "#     dpi=96,\n",
        "# )\n",
        "\n",
        "\n",
        "tf.keras.utils.plot_model(model, show_layer_names=True)\n"
      ],
      "execution_count": 9,
      "outputs": [
        {
          "output_type": "execute_result",
          "data": {
            "image/png": "[encoded data removed]",
            "text/plain": [
              "<IPython.core.display.Image object>"
            ]
          },
          "metadata": {
            "tags": []
          },
          "execution_count": 9
        }
      ]
    },
    {
      "cell_type": "code",
      "metadata": {
        "colab": {
          "base_uri": "https://localhost:8080/"
        },
        "id": "d0WxRh5mY_QI",
        "outputId": "d240c97b-58a3-4dfc-87b8-e20b8ec71e05"
      },
      "source": [
        "# test \n",
        "inputs = [np.array([list(range(15))]), np.array([list(range(15))])]\n",
        "\n",
        "model(inputs)"
      ],
      "execution_count": 10,
      "outputs": [
        {
          "output_type": "execute_result",
          "data": {
            "text/plain": [
              "[<tf.Tensor: shape=(1, 1), dtype=float32, numpy=array([[2.8273863e-07]], dtype=float32)>,\n",
              " <tf.Tensor: shape=(1, 1), dtype=float32, numpy=array([[0.01569781]], dtype=float32)>]"
            ]
          },
          "metadata": {
            "tags": []
          },
          "execution_count": 10
        }
      ]
    },
    {
      "cell_type": "markdown",
      "metadata": {
        "id": "oDZe5LI1X95R"
      },
      "source": [
        "## Model Subclassing Implementation"
      ]
    },
    {
      "cell_type": "code",
      "metadata": {
        "id": "mmRbYsvjWuWl"
      },
      "source": [
        "tf.random.set_seed(2)\n",
        "class WideDeepModel(tf.keras.models.Model):\n",
        "  def __init__(self, **kwargs):\n",
        "    super().__init__(**kwargs)\n",
        "    self.hidden1 = tf.keras.layers.Dense(30, activation='relu')\n",
        "    self.hidden2 = tf.keras.layers.Dense(30, activation='relu')\n",
        "    self.concat = tf.keras.layers.concatenate\n",
        "    self.dense1 = tf.keras.layers.Dense(1, activation='sigmoid', name='output_1')\n",
        "    self.dense2 = tf.keras.layers.Dense(1, activation='sigmoid', name='output_2')\n",
        "  \n",
        "  def call(self, inputs):\n",
        "    input_wide, input_deep = inputs\n",
        "    output_deep = self.hidden1(input_deep)\n",
        "    output_deep = self.hidden2(output_deep)\n",
        "    concat_input = self.concat([input_wide, output_deep])\n",
        "    output1 = self.dense1(concat_input)\n",
        "    output2 = self.dense2(concat_input)\n",
        "    return [output1, output2]\n",
        "  \n",
        "  def build_graph(self, shapes):\n",
        "    x_wide_shape, x_deep_shape = shapes\n",
        "    input_wide = tf.keras.layers.Input(shape=[15], name='input_wide')\n",
        "    input_deep = tf.keras.layers.Input(shape=[15], name='input_deep')\n",
        "    inputs = [input_wide, input_deep]\n",
        "    return tf.keras.models.Model(inputs=inputs, outputs=self.call(inputs))"
      ],
      "execution_count": 11,
      "outputs": []
    },
    {
      "cell_type": "code",
      "metadata": {
        "colab": {
          "base_uri": "https://localhost:8080/",
          "height": 77
        },
        "id": "F1GbIZrsZfZ2",
        "outputId": "9c1d3a3a-cc3c-4fc1-ba9f-27ee7164d3ee"
      },
      "source": [
        "model = WideDeepModel()\n",
        "tf.keras.utils.plot_model(model)"
      ],
      "execution_count": 12,
      "outputs": [
        {
          "output_type": "execute_result",
          "data": {
            "image/png": "[encoded data removed]",
            "text/plain": [
              "<IPython.core.display.Image object>"
            ]
          },
          "metadata": {
            "tags": []
          },
          "execution_count": 12
        }
      ]
    },
    {
      "cell_type": "code",
      "metadata": {
        "id": "Yrg6fEnoWuUQ",
        "colab": {
          "base_uri": "https://localhost:8080/"
        },
        "outputId": "eac841db-d997-4eaa-9387-5fa4633dfd2e"
      },
      "source": [
        "model.build_graph([(15,), (15,)]).summary()"
      ],
      "execution_count": 13,
      "outputs": [
        {
          "output_type": "stream",
          "text": [
            "Model: \"model_1\"\n",
            "__________________________________________________________________________________________________\n",
            "Layer (type)                    Output Shape         Param #     Connected to                     \n",
            "==================================================================================================\n",
            "input_deep (InputLayer)         [(None, 15)]         0                                            \n",
            "__________________________________________________________________________________________________\n",
            "dense_2 (Dense)                 (None, 30)           480         input_deep[0][0]                 \n",
            "__________________________________________________________________________________________________\n",
            "input_wide (InputLayer)         [(None, 15)]         0                                            \n",
            "__________________________________________________________________________________________________\n",
            "dense_3 (Dense)                 (None, 30)           930         dense_2[0][0]                    \n",
            "__________________________________________________________________________________________________\n",
            "concatenate_1 (Concatenate)     (None, 45)           0           input_wide[0][0]                 \n",
            "                                                                 dense_3[0][0]                    \n",
            "__________________________________________________________________________________________________\n",
            "output_1 (Dense)                (None, 1)            46          concatenate_1[0][0]              \n",
            "__________________________________________________________________________________________________\n",
            "output_2 (Dense)                (None, 1)            46          concatenate_1[0][0]              \n",
            "==================================================================================================\n",
            "Total params: 1,502\n",
            "Trainable params: 1,502\n",
            "Non-trainable params: 0\n",
            "__________________________________________________________________________________________________\n"
          ],
          "name": "stdout"
        }
      ]
    },
    {
      "cell_type": "code",
      "metadata": {
        "id": "dCbLdra5WuSK",
        "colab": {
          "base_uri": "https://localhost:8080/",
          "height": 466
        },
        "outputId": "d2b495ae-4fce-4225-94eb-e8de43017af8"
      },
      "source": [
        "tf.keras.utils.plot_model(model.build_graph([(15,), (15,)]))"
      ],
      "execution_count": 14,
      "outputs": [
        {
          "output_type": "execute_result",
          "data": {
            "image/png": "[encoded data removed]",
            "text/plain": [
              "<IPython.core.display.Image object>"
            ]
          },
          "metadata": {
            "tags": []
          },
          "execution_count": 14
        }
      ]
    },
    {
      "cell_type": "code",
      "metadata": {
        "id": "ojAh0vpvWuPY",
        "colab": {
          "base_uri": "https://localhost:8080/"
        },
        "outputId": "ce8ef9d2-adb5-4bea-c2d2-03bb742a3103"
      },
      "source": [
        "# test \n",
        "inputs = [np.array([list(range(15))]).astype('float32'), np.array([list(range(15))]).astype('float32')]\n",
        "\n",
        "model(inputs)"
      ],
      "execution_count": 15,
      "outputs": [
        {
          "output_type": "execute_result",
          "data": {
            "text/plain": [
              "[<tf.Tensor: shape=(1, 1), dtype=float32, numpy=array([[2.8273863e-07]], dtype=float32)>,\n",
              " <tf.Tensor: shape=(1, 1), dtype=float32, numpy=array([[0.01569781]], dtype=float32)>]"
            ]
          },
          "metadata": {
            "tags": []
          },
          "execution_count": 15
        }
      ]
    },
    {
      "cell_type": "markdown",
      "metadata": {
        "id": "7Rlji2wyYQW_"
      },
      "source": [
        "## Train and test"
      ]
    },
    {
      "cell_type": "code",
      "metadata": {
        "id": "xXlyrbnyWuJk"
      },
      "source": [
        "# same loss function\n",
        "model.compile(loss='binary_crossentropy', optimizer='adam', metrics=['accuracy'])\n",
        "callbacks = [\n",
        "    tf.keras.callbacks.EarlyStopping(patience=5, min_delta=1e-2)\n",
        "]"
      ],
      "execution_count": 16,
      "outputs": []
    },
    {
      "cell_type": "code",
      "metadata": {
        "id": "x8abrGuYZ4ZS"
      },
      "source": [
        "# different loss function\n",
        "## specific loss and loss weights\n",
        "losses = {\n",
        "\t\"output_1\": \"binary_crossentropy\",\n",
        "\t\"output_2\": \"binary_crossentropy\",\n",
        "}\n",
        "\n",
        "loss_weights = {\"output_1\": 1.0, \"output_2\": 2}  # 两个模型的loss weight也是可以不同的\n",
        "\n",
        "model.compile(loss=losses, loss_weights=loss_weights, metrics=['accuracy'])"
      ],
      "execution_count": 17,
      "outputs": []
    },
    {
      "cell_type": "code",
      "metadata": {
        "id": "a9N8xnNzWuGs",
        "colab": {
          "base_uri": "https://localhost:8080/"
        },
        "outputId": "7e14f9d2-e0fd-4256-ad7f-a945ffecad76"
      },
      "source": [
        "# wide和deep 方向选取不同features\n",
        "\n",
        "x_train_scaled_wide = x_train_scaled[:, :15]\n",
        "x_train_scaled_deep = x_train_scaled[:, 15:]\n",
        "x_valid_scaled_wide = x_valid_scaled[:, :15]\n",
        "x_valid_scaled_deep = x_valid_scaled[:, 15:]\n",
        "x_test_scaled_wide = x_test_scaled[:, :15]\n",
        "x_test_scaled_deep = x_test_scaled[:, 15:]\n",
        "\n",
        "\n",
        "history = model.fit([x_train_scaled_wide, x_train_scaled_deep], y_train,\n",
        "                   validation_data=([x_valid_scaled_wide, x_valid_scaled_deep], y_valid),\n",
        "                   epochs=100,\n",
        "                   callbacks=callbacks)"
      ],
      "execution_count": 18,
      "outputs": [
        {
          "output_type": "stream",
          "text": [
            "Epoch 1/100\n",
            "10/10 [==============================] - 1s 33ms/step - loss: 1.3374 - output_1_loss: 0.4613 - output_2_loss: 0.4381 - output_1_accuracy: 0.8182 - output_2_accuracy: 0.8558 - val_loss: 1.3160 - val_output_1_loss: 0.4553 - val_output_2_loss: 0.4303 - val_output_1_accuracy: 0.8224 - val_output_2_accuracy: 0.8505\n",
            "Epoch 2/100\n",
            "10/10 [==============================] - 0s 4ms/step - loss: 1.1125 - output_1_loss: 0.3874 - output_2_loss: 0.3626 - output_1_accuracy: 0.9028 - output_2_accuracy: 0.9028 - val_loss: 1.1389 - val_output_1_loss: 0.3967 - val_output_2_loss: 0.3711 - val_output_1_accuracy: 0.8692 - val_output_2_accuracy: 0.8598\n",
            "Epoch 3/100\n",
            "10/10 [==============================] - 0s 6ms/step - loss: 0.9515 - output_1_loss: 0.3351 - output_2_loss: 0.3082 - output_1_accuracy: 0.9216 - output_2_accuracy: 0.9154 - val_loss: 0.9916 - val_output_1_loss: 0.3456 - val_output_2_loss: 0.3230 - val_output_1_accuracy: 0.8785 - val_output_2_accuracy: 0.8879\n",
            "Epoch 4/100\n",
            "10/10 [==============================] - 0s 6ms/step - loss: 0.8182 - output_1_loss: 0.2897 - output_2_loss: 0.2642 - output_1_accuracy: 0.9279 - output_2_accuracy: 0.9310 - val_loss: 0.8616 - val_output_1_loss: 0.2993 - val_output_2_loss: 0.2811 - val_output_1_accuracy: 0.9159 - val_output_2_accuracy: 0.8879\n",
            "Epoch 5/100\n",
            "10/10 [==============================] - 0s 4ms/step - loss: 0.7058 - output_1_loss: 0.2512 - output_2_loss: 0.2273 - output_1_accuracy: 0.9498 - output_2_accuracy: 0.9404 - val_loss: 0.7647 - val_output_1_loss: 0.2616 - val_output_2_loss: 0.2516 - val_output_1_accuracy: 0.9252 - val_output_2_accuracy: 0.9252\n",
            "Epoch 6/100\n",
            "10/10 [==============================] - 0s 4ms/step - loss: 0.6119 - output_1_loss: 0.2168 - output_2_loss: 0.1976 - output_1_accuracy: 0.9530 - output_2_accuracy: 0.9436 - val_loss: 0.6720 - val_output_1_loss: 0.2264 - val_output_2_loss: 0.2228 - val_output_1_accuracy: 0.9252 - val_output_2_accuracy: 0.9159\n",
            "Epoch 7/100\n",
            "10/10 [==============================] - 0s 4ms/step - loss: 0.5322 - output_1_loss: 0.1874 - output_2_loss: 0.1724 - output_1_accuracy: 0.9592 - output_2_accuracy: 0.9498 - val_loss: 0.5993 - val_output_1_loss: 0.1993 - val_output_2_loss: 0.2000 - val_output_1_accuracy: 0.9252 - val_output_2_accuracy: 0.9252\n",
            "Epoch 8/100\n",
            "10/10 [==============================] - 0s 4ms/step - loss: 0.4668 - output_1_loss: 0.1631 - output_2_loss: 0.1518 - output_1_accuracy: 0.9718 - output_2_accuracy: 0.9498 - val_loss: 0.5387 - val_output_1_loss: 0.1763 - val_output_2_loss: 0.1812 - val_output_1_accuracy: 0.9439 - val_output_2_accuracy: 0.9252\n",
            "Epoch 9/100\n",
            "10/10 [==============================] - 0s 4ms/step - loss: 0.4108 - output_1_loss: 0.1424 - output_2_loss: 0.1342 - output_1_accuracy: 0.9749 - output_2_accuracy: 0.9655 - val_loss: 0.4830 - val_output_1_loss: 0.1579 - val_output_2_loss: 0.1625 - val_output_1_accuracy: 0.9439 - val_output_2_accuracy: 0.9439\n",
            "Epoch 10/100\n",
            "10/10 [==============================] - 0s 6ms/step - loss: 0.3648 - output_1_loss: 0.1255 - output_2_loss: 0.1196 - output_1_accuracy: 0.9781 - output_2_accuracy: 0.9687 - val_loss: 0.4365 - val_output_1_loss: 0.1434 - val_output_2_loss: 0.1465 - val_output_1_accuracy: 0.9439 - val_output_2_accuracy: 0.9439\n",
            "Epoch 11/100\n",
            "10/10 [==============================] - 0s 6ms/step - loss: 0.3264 - output_1_loss: 0.1118 - output_2_loss: 0.1073 - output_1_accuracy: 0.9812 - output_2_accuracy: 0.9749 - val_loss: 0.4085 - val_output_1_loss: 0.1343 - val_output_2_loss: 0.1371 - val_output_1_accuracy: 0.9533 - val_output_2_accuracy: 0.9533\n",
            "Epoch 12/100\n",
            "10/10 [==============================] - 0s 4ms/step - loss: 0.2981 - output_1_loss: 0.1016 - output_2_loss: 0.0983 - output_1_accuracy: 0.9812 - output_2_accuracy: 0.9749 - val_loss: 0.3851 - val_output_1_loss: 0.1268 - val_output_2_loss: 0.1291 - val_output_1_accuracy: 0.9533 - val_output_2_accuracy: 0.9533\n",
            "Epoch 13/100\n",
            "10/10 [==============================] - 0s 4ms/step - loss: 0.2724 - output_1_loss: 0.0926 - output_2_loss: 0.0899 - output_1_accuracy: 0.9843 - output_2_accuracy: 0.9812 - val_loss: 0.3705 - val_output_1_loss: 0.1217 - val_output_2_loss: 0.1244 - val_output_1_accuracy: 0.9533 - val_output_2_accuracy: 0.9533\n",
            "Epoch 14/100\n",
            "10/10 [==============================] - 0s 4ms/step - loss: 0.2532 - output_1_loss: 0.0857 - output_2_loss: 0.0837 - output_1_accuracy: 0.9843 - output_2_accuracy: 0.9843 - val_loss: 0.3594 - val_output_1_loss: 0.1179 - val_output_2_loss: 0.1207 - val_output_1_accuracy: 0.9533 - val_output_2_accuracy: 0.9533\n",
            "Epoch 15/100\n",
            "10/10 [==============================] - 0s 4ms/step - loss: 0.2351 - output_1_loss: 0.0795 - output_2_loss: 0.0778 - output_1_accuracy: 0.9843 - output_2_accuracy: 0.9843 - val_loss: 0.3545 - val_output_1_loss: 0.1157 - val_output_2_loss: 0.1194 - val_output_1_accuracy: 0.9626 - val_output_2_accuracy: 0.9533\n",
            "Epoch 16/100\n",
            "10/10 [==============================] - 0s 6ms/step - loss: 0.2212 - output_1_loss: 0.0746 - output_2_loss: 0.0733 - output_1_accuracy: 0.9812 - output_2_accuracy: 0.9843 - val_loss: 0.3505 - val_output_1_loss: 0.1139 - val_output_2_loss: 0.1183 - val_output_1_accuracy: 0.9626 - val_output_2_accuracy: 0.9626\n",
            "Epoch 17/100\n",
            "10/10 [==============================] - 0s 4ms/step - loss: 0.2079 - output_1_loss: 0.0700 - output_2_loss: 0.0690 - output_1_accuracy: 0.9875 - output_2_accuracy: 0.9875 - val_loss: 0.3449 - val_output_1_loss: 0.1119 - val_output_2_loss: 0.1165 - val_output_1_accuracy: 0.9626 - val_output_2_accuracy: 0.9626\n",
            "Epoch 18/100\n",
            "10/10 [==============================] - 0s 4ms/step - loss: 0.1962 - output_1_loss: 0.0659 - output_2_loss: 0.0651 - output_1_accuracy: 0.9875 - output_2_accuracy: 0.9875 - val_loss: 0.3429 - val_output_1_loss: 0.1109 - val_output_2_loss: 0.1160 - val_output_1_accuracy: 0.9626 - val_output_2_accuracy: 0.9626\n",
            "Epoch 19/100\n",
            "10/10 [==============================] - 0s 6ms/step - loss: 0.1898 - output_1_loss: 0.0636 - output_2_loss: 0.0631 - output_1_accuracy: 0.9906 - output_2_accuracy: 0.9875 - val_loss: 0.3437 - val_output_1_loss: 0.1108 - val_output_2_loss: 0.1164 - val_output_1_accuracy: 0.9626 - val_output_2_accuracy: 0.9626\n",
            "Epoch 20/100\n",
            "10/10 [==============================] - 0s 4ms/step - loss: 0.1809 - output_1_loss: 0.0606 - output_2_loss: 0.0602 - output_1_accuracy: 0.9875 - output_2_accuracy: 0.9875 - val_loss: 0.3443 - val_output_1_loss: 0.1106 - val_output_2_loss: 0.1168 - val_output_1_accuracy: 0.9626 - val_output_2_accuracy: 0.9533\n",
            "Epoch 21/100\n",
            "10/10 [==============================] - 0s 4ms/step - loss: 0.1738 - output_1_loss: 0.0581 - output_2_loss: 0.0578 - output_1_accuracy: 0.9875 - output_2_accuracy: 0.9937 - val_loss: 0.3451 - val_output_1_loss: 0.1108 - val_output_2_loss: 0.1172 - val_output_1_accuracy: 0.9626 - val_output_2_accuracy: 0.9533\n",
            "Epoch 22/100\n",
            "10/10 [==============================] - 0s 6ms/step - loss: 0.1680 - output_1_loss: 0.0561 - output_2_loss: 0.0560 - output_1_accuracy: 0.9875 - output_2_accuracy: 0.9906 - val_loss: 0.3447 - val_output_1_loss: 0.1104 - val_output_2_loss: 0.1172 - val_output_1_accuracy: 0.9533 - val_output_2_accuracy: 0.9533\n"
          ],
          "name": "stdout"
        }
      ]
    },
    {
      "cell_type": "code",
      "metadata": {
        "id": "oKJ26NQzWuDq",
        "colab": {
          "base_uri": "https://localhost:8080/",
          "height": 324
        },
        "outputId": "88589757-6699-44c1-fc94-a14111e1bc8c"
      },
      "source": [
        "\n",
        "def plot_learning_curves(history):\n",
        "    pd.DataFrame(history.history).plot(figsize=(8,5))\n",
        "    plt.grid(True)\n",
        "    plt.gca().set_ylim(0, 1)\n",
        "    plt.show()\n",
        "    \n",
        "plot_learning_curves(history)"
      ],
      "execution_count": 19,
      "outputs": [
        {
          "output_type": "display_data",
          "data": {
            "image/png": "[encoded data removed]",
            "text/plain": [
              "<Figure size 576x360 with 1 Axes>"
            ]
          },
          "metadata": {
            "tags": [],
            "needs_background": "light"
          }
        }
      ]
    },
    {
      "cell_type": "code",
      "metadata": {
        "id": "i0Q-7h54Wt9E",
        "colab": {
          "base_uri": "https://localhost:8080/"
        },
        "outputId": "b2066a0a-84dc-43da-fb4f-b0c62ec62345"
      },
      "source": [
        "model.evaluate([x_test_scaled_wide, x_test_scaled_deep], y_test)"
      ],
      "execution_count": 20,
      "outputs": [
        {
          "output_type": "stream",
          "text": [
            "5/5 [==============================] - 0s 2ms/step - loss: 0.2223 - output_1_loss: 0.0675 - output_2_loss: 0.0774 - output_1_accuracy: 0.9790 - output_2_accuracy: 0.9720\n"
          ],
          "name": "stdout"
        },
        {
          "output_type": "execute_result",
          "data": {
            "text/plain": [
              "[0.22231410443782806,\n",
              " 0.06749054789543152,\n",
              " 0.07741177827119827,\n",
              " 0.9790209531784058,\n",
              " 0.9720279574394226]"
            ]
          },
          "metadata": {
            "tags": []
          },
          "execution_count": 20
        }
      ]
    },
    {
      "cell_type": "code",
      "metadata": {
        "id": "6hlG8zM2YdSt"
      },
      "source": [
        ""
      ],
      "execution_count": 20,
      "outputs": []
    },
    {
      "cell_type": "code",
      "metadata": {
        "id": "q_iCbZgaWq3n"
      },
      "source": [
        ""
      ],
      "execution_count": 20,
      "outputs": []
    }
  ]
}
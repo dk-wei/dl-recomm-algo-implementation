{
  "nbformat": 4,
  "nbformat_minor": 0,
  "metadata": {
    "colab": {
      "name": "Wide-n-deep rergression模型简单实现(multi-input-output).ipynb",
      "provenance": [],
      "collapsed_sections": [],
      "authorship_tag": "ABX9TyN0BQL/7UiiEV9FlNjZxiRK",
      "include_colab_link": true
    },
    "kernelspec": {
      "name": "python3",
      "display_name": "Python 3"
    },
    "language_info": {
      "name": "python"
    },
    "accelerator": "GPU"
  },
  "cells": [
    {
      "cell_type": "markdown",
      "metadata": {
        "id": "view-in-github",
        "colab_type": "text"
      },
      "source": [
        "<a href=\"https://colab.research.google.com/github/dk-wei/dl-recomm-algo-implementation/blob/main/Wide_n_deep_rergression%E6%A8%A1%E5%9E%8B%E7%AE%80%E5%8D%95%E5%AE%9E%E7%8E%B0(multi_input_output).ipynb\" target=\"_parent\"><img src=\"https://colab.research.google.com/assets/colab-badge.svg\" alt=\"Open In Colab\"/></a>"
      ]
    },
    {
      "cell_type": "markdown",
      "metadata": {
        "id": "4uIv21GvKBpL"
      },
      "source": [
        "Tutorial: https://www.youtube.com/watch?v=A1jXrZNZwSs&list=PLFI1Cd4723_RLWCCLVw35l03Om4tamUMW&index=25     \n",
        "Notebook: https://github.com/KibaAmor/tf2-study-notebook/blob/master/chapter_2/tf_keras_regression-wide_deep-multi-output.ipynb\n",
        "\n",
        "![](https://pic3.zhimg.com/80/v2-454e014689c267d3093844af23d82f42_1440w.jpg)"
      ]
    },
    {
      "cell_type": "code",
      "metadata": {
        "colab": {
          "base_uri": "https://localhost:8080/"
        },
        "id": "62L7iI_9JPxl",
        "outputId": "ca008059-3ae1-4144-fef5-38f66f18ce5b"
      },
      "source": [
        "!pip config set global.index-url https://mirrors.aliyun.com/pypi/simple/\n",
        "!python -m pip install -U pip\n",
        "!pip -V\n",
        "#!pip install sklearn pandas"
      ],
      "execution_count": null,
      "outputs": [
        {
          "output_type": "stream",
          "text": [
            "Writing to /root/.config/pip/pip.conf\n",
            "Looking in indexes: https://mirrors.aliyun.com/pypi/simple/\n",
            "Collecting pip\n",
            "\u001b[?25l  Downloading https://mirrors.aliyun.com/pypi/packages/47/ca/f0d790b6e18b3a6f3bd5e80c2ee4edbb5807286c21cdd0862ca933f751dd/pip-21.1.3-py3-none-any.whl (1.5MB)\n",
            "\u001b[K     |████████████████████████████████| 1.6MB 230kB/s \n",
            "\u001b[?25hInstalling collected packages: pip\n",
            "  Found existing installation: pip 19.3.1\n",
            "    Uninstalling pip-19.3.1:\n",
            "      Successfully uninstalled pip-19.3.1\n",
            "Successfully installed pip-21.1.3\n",
            "pip 21.1.3 from /usr/local/lib/python3.7/dist-packages/pip (python 3.7)\n"
          ],
          "name": "stdout"
        }
      ]
    },
    {
      "cell_type": "code",
      "metadata": {
        "id": "E3pA5hzCJThp"
      },
      "source": [
        "import matplotlib as mpl\n",
        "import matplotlib.pyplot as plt\n",
        "%matplotlib inline\n",
        "import numpy as np\n",
        "import sklearn\n",
        "import pandas as pd\n",
        "import os\n",
        "import sys\n",
        "import time\n",
        "import tensorflow as tf\n",
        "\n",
        "from tensorflow import keras"
      ],
      "execution_count": null,
      "outputs": []
    },
    {
      "cell_type": "code",
      "metadata": {
        "colab": {
          "base_uri": "https://localhost:8080/"
        },
        "id": "fo17Mei3JTfE",
        "outputId": "a1eeffa0-a045-443c-91de-a4e326c6b720"
      },
      "source": [
        "print(tf.__version__)\n",
        "print(sys.version_info)\n",
        "\n",
        "for module in mpl, np, pd, sklearn, tf, keras:\n",
        "  print(module.__name__, module.__version__)"
      ],
      "execution_count": null,
      "outputs": [
        {
          "output_type": "stream",
          "text": [
            "2.5.0\n",
            "sys.version_info(major=3, minor=7, micro=10, releaselevel='final', serial=0)\n",
            "matplotlib 3.2.2\n",
            "numpy 1.19.5\n",
            "pandas 1.1.5\n",
            "sklearn 0.22.2.post1\n",
            "tensorflow 2.5.0\n",
            "tensorflow.keras 2.5.0\n"
          ],
          "name": "stdout"
        }
      ]
    },
    {
      "cell_type": "code",
      "metadata": {
        "colab": {
          "base_uri": "https://localhost:8080/"
        },
        "id": "cIAstsGZJTcO",
        "outputId": "d69ae502-2e1e-4478-db35-731a3e155c8d"
      },
      "source": [
        "from sklearn.datasets import fetch_california_housing\n",
        "\n",
        "housing = fetch_california_housing()\n",
        "print(housing.DESCR)\n",
        "print(housing.data.shape)\n",
        "print(housing.target.shape)"
      ],
      "execution_count": null,
      "outputs": [
        {
          "output_type": "stream",
          "text": [
            ".. _california_housing_dataset:\n",
            "\n",
            "California Housing dataset\n",
            "--------------------------\n",
            "\n",
            "**Data Set Characteristics:**\n",
            "\n",
            "    :Number of Instances: 20640\n",
            "\n",
            "    :Number of Attributes: 8 numeric, predictive attributes and the target\n",
            "\n",
            "    :Attribute Information:\n",
            "        - MedInc        median income in block\n",
            "        - HouseAge      median house age in block\n",
            "        - AveRooms      average number of rooms\n",
            "        - AveBedrms     average number of bedrooms\n",
            "        - Population    block population\n",
            "        - AveOccup      average house occupancy\n",
            "        - Latitude      house block latitude\n",
            "        - Longitude     house block longitude\n",
            "\n",
            "    :Missing Attribute Values: None\n",
            "\n",
            "This dataset was obtained from the StatLib repository.\n",
            "http://lib.stat.cmu.edu/datasets/\n",
            "\n",
            "The target variable is the median house value for California districts.\n",
            "\n",
            "This dataset was derived from the 1990 U.S. census, using one row per census\n",
            "block group. A block group is the smallest geographical unit for which the U.S.\n",
            "Census Bureau publishes sample data (a block group typically has a population\n",
            "of 600 to 3,000 people).\n",
            "\n",
            "It can be downloaded/loaded using the\n",
            ":func:`sklearn.datasets.fetch_california_housing` function.\n",
            "\n",
            ".. topic:: References\n",
            "\n",
            "    - Pace, R. Kelley and Ronald Barry, Sparse Spatial Autoregressions,\n",
            "      Statistics and Probability Letters, 33 (1997) 291-297\n",
            "\n",
            "(20640, 8)\n",
            "(20640,)\n"
          ],
          "name": "stdout"
        }
      ]
    },
    {
      "cell_type": "code",
      "metadata": {
        "colab": {
          "base_uri": "https://localhost:8080/"
        },
        "id": "lEq92XLhJTZo",
        "outputId": "ebf4f120-e62a-41a5-90a4-c09311901f5e"
      },
      "source": [
        "from sklearn.model_selection import train_test_split\n",
        "\n",
        "x_train_all, x_test, y_train_all, y_test = train_test_split(\n",
        "    housing.data, housing.target, random_state = 7)\n",
        "x_train, x_valid, y_train, y_valid = train_test_split(\n",
        "    x_train_all, y_train_all, random_state = 11)\n",
        "print(x_train.shape, y_train.shape)\n",
        "print(x_valid.shape, y_valid.shape)\n",
        "print(x_test.shape, y_test.shape)"
      ],
      "execution_count": null,
      "outputs": [
        {
          "output_type": "stream",
          "text": [
            "(11610, 8) (11610,)\n",
            "(3870, 8) (3870,)\n",
            "(5160, 8) (5160,)\n"
          ],
          "name": "stdout"
        }
      ]
    },
    {
      "cell_type": "code",
      "metadata": {
        "colab": {
          "base_uri": "https://localhost:8080/",
          "height": 204
        },
        "id": "6nqZKSNzNM1l",
        "outputId": "e5aed2de-75a9-42dd-fc2f-3df5bb45f45f"
      },
      "source": [
        "pd.DataFrame(x_train_all).head()"
      ],
      "execution_count": null,
      "outputs": [
        {
          "output_type": "execute_result",
          "data": {
            "text/html": [
              "<div>\n",
              "<style scoped>\n",
              "    .dataframe tbody tr th:only-of-type {\n",
              "        vertical-align: middle;\n",
              "    }\n",
              "\n",
              "    .dataframe tbody tr th {\n",
              "        vertical-align: top;\n",
              "    }\n",
              "\n",
              "    .dataframe thead th {\n",
              "        text-align: right;\n",
              "    }\n",
              "</style>\n",
              "<table border=\"1\" class=\"dataframe\">\n",
              "  <thead>\n",
              "    <tr style=\"text-align: right;\">\n",
              "      <th></th>\n",
              "      <th>0</th>\n",
              "      <th>1</th>\n",
              "      <th>2</th>\n",
              "      <th>3</th>\n",
              "      <th>4</th>\n",
              "      <th>5</th>\n",
              "      <th>6</th>\n",
              "      <th>7</th>\n",
              "    </tr>\n",
              "  </thead>\n",
              "  <tbody>\n",
              "    <tr>\n",
              "      <th>0</th>\n",
              "      <td>1.7250</td>\n",
              "      <td>52.0</td>\n",
              "      <td>3.386216</td>\n",
              "      <td>1.088427</td>\n",
              "      <td>1798.0</td>\n",
              "      <td>2.338101</td>\n",
              "      <td>37.88</td>\n",
              "      <td>-122.26</td>\n",
              "    </tr>\n",
              "    <tr>\n",
              "      <th>1</th>\n",
              "      <td>3.3120</td>\n",
              "      <td>17.0</td>\n",
              "      <td>6.451758</td>\n",
              "      <td>1.390426</td>\n",
              "      <td>3497.0</td>\n",
              "      <td>2.615557</td>\n",
              "      <td>33.72</td>\n",
              "      <td>-116.37</td>\n",
              "    </tr>\n",
              "    <tr>\n",
              "      <th>2</th>\n",
              "      <td>1.2469</td>\n",
              "      <td>33.0</td>\n",
              "      <td>4.773256</td>\n",
              "      <td>1.052326</td>\n",
              "      <td>579.0</td>\n",
              "      <td>3.366279</td>\n",
              "      <td>35.37</td>\n",
              "      <td>-119.01</td>\n",
              "    </tr>\n",
              "    <tr>\n",
              "      <th>3</th>\n",
              "      <td>2.9018</td>\n",
              "      <td>22.0</td>\n",
              "      <td>4.753346</td>\n",
              "      <td>1.162524</td>\n",
              "      <td>709.0</td>\n",
              "      <td>1.355641</td>\n",
              "      <td>34.23</td>\n",
              "      <td>-119.29</td>\n",
              "    </tr>\n",
              "    <tr>\n",
              "      <th>4</th>\n",
              "      <td>6.3716</td>\n",
              "      <td>30.0</td>\n",
              "      <td>5.510417</td>\n",
              "      <td>0.962500</td>\n",
              "      <td>1506.0</td>\n",
              "      <td>3.137500</td>\n",
              "      <td>37.33</td>\n",
              "      <td>-121.98</td>\n",
              "    </tr>\n",
              "  </tbody>\n",
              "</table>\n",
              "</div>"
            ],
            "text/plain": [
              "        0     1         2         3       4         5      6       7\n",
              "0  1.7250  52.0  3.386216  1.088427  1798.0  2.338101  37.88 -122.26\n",
              "1  3.3120  17.0  6.451758  1.390426  3497.0  2.615557  33.72 -116.37\n",
              "2  1.2469  33.0  4.773256  1.052326   579.0  3.366279  35.37 -119.01\n",
              "3  2.9018  22.0  4.753346  1.162524   709.0  1.355641  34.23 -119.29\n",
              "4  6.3716  30.0  5.510417  0.962500  1506.0  3.137500  37.33 -121.98"
            ]
          },
          "metadata": {
            "tags": []
          },
          "execution_count": 25
        }
      ]
    },
    {
      "cell_type": "code",
      "metadata": {
        "id": "VQBtyQnsJTXp"
      },
      "source": [
        "from sklearn.preprocessing import StandardScaler\n",
        "\n",
        "scaler = StandardScaler()\n",
        "x_train_scaled = scaler.fit_transform(x_train)\n",
        "x_valid_scaled = scaler.transform(x_valid)\n",
        "x_test_scaled = scaler.transform(x_test)"
      ],
      "execution_count": null,
      "outputs": []
    },
    {
      "cell_type": "code",
      "metadata": {
        "id": "kAdZsn3HJTSS"
      },
      "source": [
        "# 多输出\n",
        "input_wide = keras.layers.Input(shape=[5])\n",
        "input_deep = keras.layers.Input(shape=[6])\n",
        "\n",
        "hidden1 = keras.layers.Dense(30, activation='relu')(input_deep)\n",
        "hidden2 = keras.layers.Dense(30, activation='relu')(hidden1)\n",
        "\n",
        "concat = keras.layers.concatenate([input_wide, hidden2]) \n",
        "\n",
        "# 多输出\n",
        "output = keras.layers.Dense(1)(concat)  \n",
        "output2 = keras.layers.Dense(2)(hidden2)"
      ],
      "execution_count": null,
      "outputs": []
    },
    {
      "cell_type": "code",
      "metadata": {
        "colab": {
          "base_uri": "https://localhost:8080/"
        },
        "id": "q-Dl4l7aOBg2",
        "outputId": "9e745a40-38bf-48ea-a5e5-f92d0eb4d6e6"
      },
      "source": [
        "# 创建完数据集，一定要用model固定下来\n",
        "\n",
        "# 双输入，双输出\n",
        "model = keras.models.Model(inputs = [input_wide, input_deep],\n",
        "                         outputs = [output, output2])\n",
        "\n",
        "model.summary()\n",
        "model.compile(loss='mean_squared_error', optimizer='adam')\n",
        "callbacks = [\n",
        "    keras.callbacks.EarlyStopping(patience=5, min_delta=1e-2)\n",
        "]"
      ],
      "execution_count": null,
      "outputs": [
        {
          "output_type": "stream",
          "text": [
            "Model: \"model_2\"\n",
            "__________________________________________________________________________________________________\n",
            "Layer (type)                    Output Shape         Param #     Connected to                     \n",
            "==================================================================================================\n",
            "input_8 (InputLayer)            [(None, 6)]          0                                            \n",
            "__________________________________________________________________________________________________\n",
            "dense_12 (Dense)                (None, 30)           210         input_8[0][0]                    \n",
            "__________________________________________________________________________________________________\n",
            "input_7 (InputLayer)            [(None, 5)]          0                                            \n",
            "__________________________________________________________________________________________________\n",
            "dense_13 (Dense)                (None, 30)           930         dense_12[0][0]                   \n",
            "__________________________________________________________________________________________________\n",
            "concatenate_3 (Concatenate)     (None, 35)           0           input_7[0][0]                    \n",
            "                                                                 dense_13[0][0]                   \n",
            "__________________________________________________________________________________________________\n",
            "dense_14 (Dense)                (None, 1)            36          concatenate_3[0][0]              \n",
            "__________________________________________________________________________________________________\n",
            "dense_15 (Dense)                (None, 2)            62          dense_13[0][0]                   \n",
            "==================================================================================================\n",
            "Total params: 1,238\n",
            "Trainable params: 1,238\n",
            "Non-trainable params: 0\n",
            "__________________________________________________________________________________________________\n"
          ],
          "name": "stdout"
        }
      ]
    },
    {
      "cell_type": "code",
      "metadata": {
        "colab": {
          "base_uri": "https://localhost:8080/"
        },
        "id": "TwNJqMFTJTLx",
        "outputId": "c4a2bbb6-9061-4fee-998a-189323edee0f"
      },
      "source": [
        "# wide和deep方向选取不同的features\n",
        "\n",
        "x_train_scaled_wide = x_train_scaled[:, :5]\n",
        "x_train_scaled_deep = x_train_scaled[:, 2:]\n",
        "x_valid_scaled_wide = x_valid_scaled[:, :5]\n",
        "x_valid_scaled_deep = x_valid_scaled[:, 2:]\n",
        "x_test_scaled_wide  = x_test_scaled[:, :5]\n",
        "x_test_scaled_deep  = x_test_scaled[:, 2:]\n",
        "\n",
        "history = model.fit([x_train_scaled_wide, x_train_scaled_deep], [y_train, y_train],\n",
        "                   validation_data=([x_valid_scaled_wide, x_valid_scaled_deep], [y_valid, y_valid]),\n",
        "                   epochs=100,\n",
        "                   callbacks=callbacks)"
      ],
      "execution_count": null,
      "outputs": [
        {
          "output_type": "stream",
          "text": [
            "Epoch 1/100\n",
            "363/363 [==============================] - 2s 4ms/step - loss: 3.7369 - dense_14_loss: 1.6990 - dense_15_loss: 2.0379 - val_loss: 1.7172 - val_dense_14_loss: 0.7576 - val_dense_15_loss: 0.9596\n",
            "Epoch 2/100\n",
            "363/363 [==============================] - 1s 4ms/step - loss: 1.2839 - dense_14_loss: 0.5650 - dense_15_loss: 0.7190 - val_loss: 1.1599 - val_dense_14_loss: 0.5140 - val_dense_15_loss: 0.6459\n",
            "Epoch 3/100\n",
            "363/363 [==============================] - 1s 3ms/step - loss: 1.0570 - dense_14_loss: 0.4676 - dense_15_loss: 0.5894 - val_loss: 1.0563 - val_dense_14_loss: 0.4673 - val_dense_15_loss: 0.5890\n",
            "Epoch 4/100\n",
            "363/363 [==============================] - 1s 4ms/step - loss: 0.9885 - dense_14_loss: 0.4345 - dense_15_loss: 0.5540 - val_loss: 1.0198 - val_dense_14_loss: 0.4407 - val_dense_15_loss: 0.5791\n",
            "Epoch 5/100\n",
            "363/363 [==============================] - 1s 4ms/step - loss: 0.9475 - dense_14_loss: 0.4144 - dense_15_loss: 0.5330 - val_loss: 0.9725 - val_dense_14_loss: 0.4240 - val_dense_15_loss: 0.5485\n",
            "Epoch 6/100\n",
            "363/363 [==============================] - 1s 4ms/step - loss: 0.9108 - dense_14_loss: 0.3992 - dense_15_loss: 0.5115 - val_loss: 0.9252 - val_dense_14_loss: 0.4054 - val_dense_15_loss: 0.5198\n",
            "Epoch 7/100\n",
            "363/363 [==============================] - 1s 3ms/step - loss: 0.8864 - dense_14_loss: 0.3894 - dense_15_loss: 0.4970 - val_loss: 0.8941 - val_dense_14_loss: 0.3931 - val_dense_15_loss: 0.5010\n",
            "Epoch 8/100\n",
            "363/363 [==============================] - 1s 3ms/step - loss: 0.8593 - dense_14_loss: 0.3795 - dense_15_loss: 0.4798 - val_loss: 0.8894 - val_dense_14_loss: 0.3909 - val_dense_15_loss: 0.4985\n",
            "Epoch 9/100\n",
            "363/363 [==============================] - 1s 3ms/step - loss: 0.8518 - dense_14_loss: 0.3766 - dense_15_loss: 0.4752 - val_loss: 0.8504 - val_dense_14_loss: 0.3785 - val_dense_15_loss: 0.4718\n",
            "Epoch 10/100\n",
            "363/363 [==============================] - 1s 3ms/step - loss: 0.8264 - dense_14_loss: 0.3675 - dense_15_loss: 0.4589 - val_loss: 0.8465 - val_dense_14_loss: 0.3776 - val_dense_15_loss: 0.4689\n",
            "Epoch 11/100\n",
            "363/363 [==============================] - 1s 4ms/step - loss: 0.8097 - dense_14_loss: 0.3625 - dense_15_loss: 0.4472 - val_loss: 0.8197 - val_dense_14_loss: 0.3679 - val_dense_15_loss: 0.4518\n",
            "Epoch 12/100\n",
            "363/363 [==============================] - 1s 3ms/step - loss: 0.7899 - dense_14_loss: 0.3540 - dense_15_loss: 0.4360 - val_loss: 0.8304 - val_dense_14_loss: 0.3752 - val_dense_15_loss: 0.4552\n",
            "Epoch 13/100\n",
            "363/363 [==============================] - 1s 3ms/step - loss: 0.7819 - dense_14_loss: 0.3531 - dense_15_loss: 0.4288 - val_loss: 0.7855 - val_dense_14_loss: 0.3548 - val_dense_15_loss: 0.4308\n",
            "Epoch 14/100\n",
            "363/363 [==============================] - 1s 3ms/step - loss: 0.7684 - dense_14_loss: 0.3489 - dense_15_loss: 0.4195 - val_loss: 0.8003 - val_dense_14_loss: 0.3648 - val_dense_15_loss: 0.4354\n",
            "Epoch 15/100\n",
            "363/363 [==============================] - 1s 4ms/step - loss: 0.7626 - dense_14_loss: 0.3467 - dense_15_loss: 0.4159 - val_loss: 0.8050 - val_dense_14_loss: 0.3651 - val_dense_15_loss: 0.4399\n",
            "Epoch 16/100\n",
            "363/363 [==============================] - 1s 3ms/step - loss: 0.7516 - dense_14_loss: 0.3426 - dense_15_loss: 0.4091 - val_loss: 0.7696 - val_dense_14_loss: 0.3478 - val_dense_15_loss: 0.4219\n",
            "Epoch 17/100\n",
            "363/363 [==============================] - 1s 4ms/step - loss: 0.7473 - dense_14_loss: 0.3409 - dense_15_loss: 0.4065 - val_loss: 0.7673 - val_dense_14_loss: 0.3497 - val_dense_15_loss: 0.4176\n",
            "Epoch 18/100\n",
            "363/363 [==============================] - 1s 3ms/step - loss: 0.7362 - dense_14_loss: 0.3358 - dense_15_loss: 0.4004 - val_loss: 0.7565 - val_dense_14_loss: 0.3445 - val_dense_15_loss: 0.4120\n",
            "Epoch 19/100\n",
            "363/363 [==============================] - 1s 4ms/step - loss: 0.7344 - dense_14_loss: 0.3358 - dense_15_loss: 0.3986 - val_loss: 0.7494 - val_dense_14_loss: 0.3422 - val_dense_15_loss: 0.4072\n",
            "Epoch 20/100\n",
            "363/363 [==============================] - 1s 3ms/step - loss: 0.7324 - dense_14_loss: 0.3368 - dense_15_loss: 0.3956 - val_loss: 0.7408 - val_dense_14_loss: 0.3377 - val_dense_15_loss: 0.4031\n",
            "Epoch 21/100\n",
            "363/363 [==============================] - 1s 3ms/step - loss: 0.7199 - dense_14_loss: 0.3296 - dense_15_loss: 0.3903 - val_loss: 0.7707 - val_dense_14_loss: 0.3524 - val_dense_15_loss: 0.4182\n",
            "Epoch 22/100\n",
            "363/363 [==============================] - 1s 3ms/step - loss: 0.7210 - dense_14_loss: 0.3298 - dense_15_loss: 0.3912 - val_loss: 0.7379 - val_dense_14_loss: 0.3374 - val_dense_15_loss: 0.4005\n",
            "Epoch 23/100\n",
            "363/363 [==============================] - 1s 3ms/step - loss: 0.7149 - dense_14_loss: 0.3272 - dense_15_loss: 0.3878 - val_loss: 0.7326 - val_dense_14_loss: 0.3339 - val_dense_15_loss: 0.3986\n",
            "Epoch 24/100\n",
            "363/363 [==============================] - 1s 3ms/step - loss: 0.7110 - dense_14_loss: 0.3263 - dense_15_loss: 0.3847 - val_loss: 0.7312 - val_dense_14_loss: 0.3327 - val_dense_15_loss: 0.3985\n",
            "Epoch 25/100\n",
            "363/363 [==============================] - 1s 3ms/step - loss: 0.7088 - dense_14_loss: 0.3252 - dense_15_loss: 0.3836 - val_loss: 0.7614 - val_dense_14_loss: 0.3496 - val_dense_15_loss: 0.4118\n"
          ],
          "name": "stdout"
        }
      ]
    },
    {
      "cell_type": "code",
      "metadata": {
        "colab": {
          "base_uri": "https://localhost:8080/",
          "height": 324
        },
        "id": "k-KXKwjpJTKR",
        "outputId": "1e383801-3600-461b-85d7-4c879992ad0e"
      },
      "source": [
        "def plot_learning_curves(history):\n",
        "    pd.DataFrame(history.history).plot(figsize=(8,5))\n",
        "    plt.grid(True)\n",
        "    plt.gca().set_ylim(0, 1)\n",
        "    plt.show()\n",
        "    \n",
        "plot_learning_curves(history) "
      ],
      "execution_count": null,
      "outputs": [
        {
          "output_type": "display_data",
          "data": {
            "image/png": "[encoded data removed]",
            "text/plain": [
              "<Figure size 576x360 with 1 Axes>"
            ]
          },
          "metadata": {
            "tags": [],
            "needs_background": "light"
          }
        }
      ]
    },
    {
      "cell_type": "code",
      "metadata": {
        "colab": {
          "base_uri": "https://localhost:8080/"
        },
        "id": "wfGQJdCJJTGk",
        "outputId": "ac32389a-830a-4fe4-8648-2c73408817cd"
      },
      "source": [
        "model.evaluate([x_test_scaled_wide, x_test_scaled_deep], [y_test, y_test])"
      ],
      "execution_count": null,
      "outputs": [
        {
          "output_type": "stream",
          "text": [
            "162/162 [==============================] - 0s 2ms/step - loss: 0.7459 - dense_14_loss: 0.3499 - dense_15_loss: 0.3960\n"
          ],
          "name": "stdout"
        },
        {
          "output_type": "execute_result",
          "data": {
            "text/plain": [
              "[0.7459043860435486, 0.3498656749725342, 0.39603883028030396]"
            ]
          },
          "metadata": {
            "tags": []
          },
          "execution_count": 32
        }
      ]
    },
    {
      "cell_type": "code",
      "metadata": {
        "id": "_jMI18iPJTDa"
      },
      "source": [
        ""
      ],
      "execution_count": null,
      "outputs": []
    }
  ]
}
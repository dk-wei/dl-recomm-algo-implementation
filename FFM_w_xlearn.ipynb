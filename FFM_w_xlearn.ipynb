{
  "nbformat": 4,
  "nbformat_minor": 0,
  "metadata": {
    "colab": {
      "name": "FFM w/ xlearn.ipynb",
      "provenance": [],
      "authorship_tag": "ABX9TyOFhLY+nm0QqL9AU/6Qyc1C",
      "include_colab_link": true
    },
    "kernelspec": {
      "name": "python3",
      "display_name": "Python 3"
    },
    "language_info": {
      "name": "python"
    }
  },
  "cells": [
    {
      "cell_type": "markdown",
      "metadata": {
        "id": "view-in-github",
        "colab_type": "text"
      },
      "source": [
        "<a href=\"https://colab.research.google.com/github/dk-wei/recommendation-algo-implementation/blob/main/FFM_w_xlearn.ipynb\" target=\"_parent\"><img src=\"https://colab.research.google.com/assets/colab-badge.svg\" alt=\"Open In Colab\"/></a>"
      ]
    },
    {
      "cell_type": "markdown",
      "metadata": {
        "id": "4yZI4PqemrMJ"
      },
      "source": [
        "在推荐系统、搜索排序、效果广告等场景中，点击率预估是十分重要的部分，CTR 算法也被誉为镶嵌在互联网技术上的明珠。在深度学习火热之前，除了简单的 LR 以外常用的算法类有：以决策树为主的 Boosting 算法；以因子分解为基础的 FM 算法。相对而言，树模型比较适合学习数值类的连续特征，而后者更适合学习 ID 类（Categorical ）的稀疏特征。深度学习横空出世之后，更多的研究者把重心放在如何将 Deep Learning 运用于 CTR 任务，比较著名的有 Google 开源的 Wide and Deep 算法和 DCN 网络。通常来说，FM-based 算法更适合深度学习，深度学习需要海量的训练数据，大量稀疏的 ID 类特征为深度学习提供绝佳的土壤。\n",
        "\n",
        "FM 的主要目的是解决稀疏特征下参数学习问题，可以实现树模型不能学习的特征交叉。本文主要涉及几个以 FM 为基础的算法。本着学习交流分享精神，本文从 FM 出发，梳理一下这些以 FM 为基础的算法。如有纰漏，敬请指出。\n",
        "\n",
        "使用CRITEO_CTR比赛的简略数据，构建简单的FFM模型，"
      ]
    },
    {
      "cell_type": "code",
      "metadata": {
        "colab": {
          "base_uri": "https://localhost:8080/"
        },
        "id": "OpvUDY6_mM53",
        "outputId": "4b02541f-a894-40c0-a8a4-03f3401fd188"
      },
      "source": [
        "pip install xlearn"
      ],
      "execution_count": 1,
      "outputs": [
        {
          "output_type": "stream",
          "text": [
            "Requirement already satisfied: xlearn in /usr/local/lib/python3.7/dist-packages (0.40a1)\n"
          ],
          "name": "stdout"
        }
      ]
    },
    {
      "cell_type": "code",
      "metadata": {
        "id": "ZOJLbK29lzer"
      },
      "source": [
        "import xlearn as xl\n",
        "import pandas as pd"
      ],
      "execution_count": 2,
      "outputs": []
    },
    {
      "cell_type": "code",
      "metadata": {
        "colab": {
          "base_uri": "https://localhost:8080/"
        },
        "id": "Dr0cJLefmGzP",
        "outputId": "22436549-7018-4fb0-84b4-99864fe848b5"
      },
      "source": [
        "!git clone https://github.com/wngaw/blog.git"
      ],
      "execution_count": 1,
      "outputs": [
        {
          "output_type": "stream",
          "text": [
            "fatal: destination path 'blog' already exists and is not an empty directory.\n"
          ],
          "name": "stdout"
        }
      ]
    },
    {
      "cell_type": "code",
      "metadata": {
        "colab": {
          "base_uri": "https://localhost:8080/"
        },
        "id": "RQC0z6Whukkz",
        "outputId": "86517e85-4383-4ef3-86af-9539b72f6f54"
      },
      "source": [
        "cd /content/blog/xlearn_example/src"
      ],
      "execution_count": 5,
      "outputs": [
        {
          "output_type": "stream",
          "text": [
            "/content/blog/xlearn_example/src\n"
          ],
          "name": "stdout"
        }
      ]
    },
    {
      "cell_type": "code",
      "metadata": {
        "id": "JN5D3EucmGwZ"
      },
      "source": [
        "import pandas as pd\n",
        "import xlearn as xl\n",
        "from sklearn.model_selection import train_test_split\n",
        "from utils import _convert_to_ffm\n",
        "import config\n",
        "import warnings\n",
        "warnings.filterwarnings('ignore')"
      ],
      "execution_count": 6,
      "outputs": []
    },
    {
      "cell_type": "code",
      "metadata": {
        "id": "GI-h6nedmGtm"
      },
      "source": [
        "train = pd.read_csv('data/train.csv')"
      ],
      "execution_count": 7,
      "outputs": []
    },
    {
      "cell_type": "code",
      "metadata": {
        "id": "jeDTI4w8mGq_"
      },
      "source": [
        "cols = ['Education','ApplicantIncome','Loan_Status','Credit_History']\n",
        "train_sub = train[cols]\n",
        "train_sub['Credit_History'].fillna(0, inplace = True)\n",
        "dict_ls = {'Y':1, 'N':0}\n",
        "train_sub['Loan_Status'].replace(dict_ls, inplace = True)"
      ],
      "execution_count": 8,
      "outputs": []
    },
    {
      "cell_type": "code",
      "metadata": {
        "id": "QTRWVCuzvC42"
      },
      "source": [
        "train, test = train_test_split(train_sub, test_size = 0.3, random_state = 5)"
      ],
      "execution_count": 9,
      "outputs": []
    },
    {
      "cell_type": "code",
      "metadata": {
        "colab": {
          "base_uri": "https://localhost:8080/"
        },
        "id": "vYqbH8sgvC1S",
        "outputId": "0c4f18e3-9416-4b94-e6d4-d2be97c3390b"
      },
      "source": [
        "print(f' train data: \\n {train.head()}')"
      ],
      "execution_count": 10,
      "outputs": [
        {
          "output_type": "stream",
          "text": [
            " train data: \n",
            "         Education  ApplicantIncome  Loan_Status  Credit_History\n",
            "16   Not Graduate             3596            1             0.0\n",
            "461      Graduate             7740            1             1.0\n",
            "285      Graduate             3158            1             1.0\n",
            "156      Graduate             6000            1             0.0\n",
            "384      Graduate             4566            0             1.0\n"
          ],
          "name": "stdout"
        }
      ]
    },
    {
      "cell_type": "code",
      "metadata": {
        "id": "myIcws1bvCyv"
      },
      "source": [
        "encoder = {\"currentcode\": len(config.NUMERICAL_FEATURES),\n",
        "           \"catdict\": {},\n",
        "           \"catcodes\": {}}"
      ],
      "execution_count": 11,
      "outputs": []
    },
    {
      "cell_type": "code",
      "metadata": {
        "colab": {
          "base_uri": "https://localhost:8080/"
        },
        "id": "kyEuux-ivCwg",
        "outputId": "9c681d59-fe1e-42aa-a48f-92b76fe9ecbb"
      },
      "source": [
        "encoder = _convert_to_ffm('data/', train, 'train', config.GOAL[0],\n",
        "                          config.NUMERICAL_FEATURES,\n",
        "                          config.CATEGORICAL_FEATURES,\n",
        "                          config.ALL_FEATURES,\n",
        "                          encoder)\n",
        "\n",
        "encoder = _convert_to_ffm('data/', test, 'test', config.GOAL[0],\n",
        "                          config.NUMERICAL_FEATURES,\n",
        "                          config.CATEGORICAL_FEATURES,\n",
        "                          config.ALL_FEATURES,\n",
        "                          encoder)"
      ],
      "execution_count": 12,
      "outputs": [
        {
          "output_type": "stream",
          "text": [
            "convert_to_ffm - START\n",
            "UPDATING CATDICT: numeric field - ApplicantIncome\n",
            "UPDATING CATDICT: categorical field - Education\n",
            "UPDATING CATDICT: categorical field - Credit_History\n",
            "UPDATING CATCODES: categorical field - Education\n",
            "UPDATING CATCODES: categorical value for field Education - Not Graduate\n",
            "UPDATING CATCODES: categorical field - Credit_History\n",
            "UPDATING CATCODES: categorical value for field Credit_History - 0.0\n",
            "UPDATING CATCODES: categorical value for field Education - Graduate\n",
            "UPDATING CATCODES: categorical value for field Credit_History - 1.0\n",
            "convert_to_ffm - START\n"
          ],
          "name": "stdout"
        }
      ]
    },
    {
      "cell_type": "code",
      "metadata": {
        "id": "5dYl8bfwvCtb"
      },
      "source": [
        "ffm_model = xl.create_ffm()\n",
        "ffm_model.setTrain(\"data/train_ffm.txt\")\n",
        "ffm_model.setValidate(\"data/test_ffm.txt\")\n",
        "param = {'task': 'binary',\n",
        "         'lr': 0.2,\n",
        "         'lambda': 0.002,\n",
        "         'metric': 'auc'}\n",
        "ffm_model.fit(param, 'trained_models/model.out')"
      ],
      "execution_count": null,
      "outputs": []
    },
    {
      "cell_type": "code",
      "metadata": {
        "id": "ZLeauOD_vCrO"
      },
      "source": [
        "param = {'task': 'binary',\n",
        "         'lr': 0.2,\n",
        "         'lambda': 0.002,\n",
        "         'metric': 'auc'}\n",
        "         \n",
        "ffm_model = xl.create_ffm()\n",
        "#ffm_model.cv(param)"
      ],
      "execution_count": 14,
      "outputs": []
    },
    {
      "cell_type": "code",
      "metadata": {
        "id": "U4w6K9sUvCoK"
      },
      "source": [
        "ffm_model.setTest(\"data/test_ffm.txt\")\n",
        "ffm_model.setSigmoid()\n",
        "ffm_model.predict(\"trained_models/model.out\", \"output/predictions.txt\")"
      ],
      "execution_count": null,
      "outputs": []
    },
    {
      "cell_type": "code",
      "metadata": {
        "id": "AxkIwvxHvClq"
      },
      "source": [
        ""
      ],
      "execution_count": null,
      "outputs": []
    }
  ]
}